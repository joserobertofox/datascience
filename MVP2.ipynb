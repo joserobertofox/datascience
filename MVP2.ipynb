{
  "nbformat": 4,
  "nbformat_minor": 0,
  "metadata": {
    "colab": {
      "provenance": [],
      "toc_visible": true,
      "authorship_tag": "ABX9TyM6IzF324iqezkUMD9yZP3O",
      "include_colab_link": true
    },
    "kernelspec": {
      "name": "python3",
      "display_name": "Python 3"
    },
    "language_info": {
      "name": "python"
    }
  },
  "cells": [
    {
      "cell_type": "markdown",
      "metadata": {
        "id": "view-in-github",
        "colab_type": "text"
      },
      "source": [
        "<a href=\"https://colab.research.google.com/github/joserobertofox/datascience/blob/main/MVP2.ipynb\" target=\"_parent\"><img src=\"https://colab.research.google.com/assets/colab-badge.svg\" alt=\"Open In Colab\"/></a>"
      ]
    },
    {
      "cell_type": "markdown",
      "source": [
        "# **MVP de Machine Learning & Analytics**\n",
        "## **Aluno: José Roberto Assis Silva**\n"
      ],
      "metadata": {
        "id": "Xmxuth4PBnVL"
      }
    },
    {
      "cell_type": "markdown",
      "source": [
        "## **1. Definição do Problema**"
      ],
      "metadata": {
        "id": "VMaRZN_BDPJ6"
      }
    },
    {
      "cell_type": "markdown",
      "source": [
        "O dataset que será utilizado neste projeto e o **HCV Data Set** que contém dados para previsão de hepatite C. A fonte deste dataset tem como doador: Instituto de Química Clínica; Universidade de Medicina de Hannover (MHH); Hannover, Alemanha. O conjunto de dados contém valores laboratoriais de doadores de sangue e pacientes com hepatite C e valores demográficos como idade e será tratado como um problema de aprendizado supervisionado. Estes atributos de exames laboratoriais contém varíaveis preditoras ao atributo alvo (variável de classe) para classificar se os doadores têm ou não hepatite C. A variável de classe é **CATEGORY (valores: '0=Doador de Sangue', '0s=Doador de Sangue suspeito', '1=Hepatite', '2=Fibrose', '3=Cirrose')**. Para mais informações sobre este dataset, consulte: https://archive.ics.uci.edu/ml/datasets/HCV+data.\n",
        "\n",
        "**Atributos do Dataset:**\n",
        "\n",
        "1. **ID**    - ID do paciente N°\n",
        "2. **Category** - (valores: '0=Doador de Sangue', '0s=Doador de Sangue suspeito', '1=Hepatite', '2=Fibrose', '3=Cirrose')\n",
        "3. **Age** - Idade em anos\n",
        "4. **Sex** - Sexo (m/f)\n",
        "5. **ALB** - Albumina (3,5 a 5,2 g/dL)\n",
        "6. **ALP** - Fosfatase Alcalina (40 U/L a 150 U/L)\n",
        "7. **ALT** - Alamina Aminotransferase (5 a 40 U/L)TGO\n",
        "8. **AST** - Aspartato Aminotransferase (7 a 56 U/L)TGP\n",
        "9. **BIL** - Bilirrubina (0,2 a 1,1 mg/dL)\n",
        "10. **CHE** - Colinesterase Eritrocitaria (h: 4620 - 11500 U/L. ; m: 3930 - 10800 U/L)\n",
        "11. **CHOL** - Colesterol (menor 200mg/dL)\n",
        "12. **CREA** - Creatina (h: 0,6 - 1,30 mg/dL ; m: 0,50 - 1,1 mg/dL)\n",
        "13. **GGT** - Gama Glutamil Transferase (h: até 85 U/L. ; m: até 38 U/L)\n",
        "14. **PROT** - Proteinas Totais (6 a 8 g/dL)\n",
        "\n"
      ],
      "metadata": {
        "id": "p3ETqccRDYYq"
      }
    },
    {
      "cell_type": "code",
      "source": [
        "# Imports\n",
        "import pandas as pd\n",
        "import numpy as np\n",
        "import missingno as ms # para tratamento de missings\n",
        "from sklearn.model_selection import train_test_split # para particionar em bases de treino e teste (holdout)\n",
        "from sklearn.preprocessing import OrdinalEncoder #para fazer codificação ordinal (ordinal encoding)\n",
        "from sklearn.preprocessing import OneHotEncoder  #one-hot encoding e dummy encoding\n",
        "\n",
        "\"\"\"import pandas as pd\n",
        "import numpy as np\n",
        "import matplotlib\n",
        "import matplotlib.pyplot as plt\n",
        "import seaborn as sns\n",
        "import missingno as ms # para tratamento de missings\n",
        "from matplotlib import cm\n",
        "from pandas import set_option\n",
        "from pandas.plotting import scatter_matrix\n",
        "from sklearn.preprocessing import StandardScaler #padronização\n",
        "from sklearn.preprocessing import MinMaxScaler   #normalização\n",
        "from sklearn.preprocessing import OrdinalEncoder #ordinal encoding\n",
        "from sklearn.preprocessing import OneHotEncoder  #one-hot encoding e dummy encoding\n",
        "from sklearn.model_selection import train_test_split\n",
        "from sklearn.model_selection import KFold\n",
        "from sklearn.model_selection import StratifiedKFold\n",
        "from sklearn.model_selection import cross_val_score\n",
        "from sklearn.model_selection import GridSearchCV\n",
        "from sklearn.metrics import classification_report\n",
        "from sklearn.metrics import confusion_matrix\n",
        "from sklearn.metrics import accuracy_score\n",
        "from sklearn.pipeline import Pipeline\n",
        "from sklearn.linear_model import LogisticRegression\n",
        "from sklearn.tree import DecisionTreeClassifier\n",
        "from sklearn.neighbors import KNeighborsClassifier\n",
        "from sklearn.naive_bayes import GaussianNB\n",
        "from sklearn.svm import SVC\n",
        "from sklearn.ensemble import BaggingClassifier\n",
        "from sklearn.ensemble import RandomForestClassifier\n",
        "from sklearn.ensemble import ExtraTreesClassifier\n",
        "from sklearn.ensemble import VotingClassifier\n",
        "from sklearn.ensemble import AdaBoostClassifier\n",
        "from sklearn.ensemble import GradientBoostingClassifier\"\"\""
      ],
      "metadata": {
        "id": "GXTQglg2SqE5",
        "colab": {
          "base_uri": "https://localhost:8080/",
          "height": 104
        },
        "outputId": "d1ec74d9-abd6-4ab6-bf3a-1f25e5bb8edd"
      },
      "execution_count": 48,
      "outputs": [
        {
          "output_type": "execute_result",
          "data": {
            "text/plain": [
              "'import pandas as pd\\nimport numpy as np\\nimport matplotlib\\nimport matplotlib.pyplot as plt\\nimport seaborn as sns\\nimport missingno as ms # para tratamento de missings\\nfrom matplotlib import cm\\nfrom pandas import set_option\\nfrom pandas.plotting import scatter_matrix\\nfrom sklearn.preprocessing import StandardScaler #padronização\\nfrom sklearn.preprocessing import MinMaxScaler   #normalização\\nfrom sklearn.preprocessing import OrdinalEncoder #ordinal encoding\\nfrom sklearn.preprocessing import OneHotEncoder  #one-hot encoding e dummy encoding\\nfrom sklearn.model_selection import train_test_split\\nfrom sklearn.model_selection import KFold\\nfrom sklearn.model_selection import StratifiedKFold\\nfrom sklearn.model_selection import cross_val_score\\nfrom sklearn.model_selection import GridSearchCV\\nfrom sklearn.metrics import classification_report\\nfrom sklearn.metrics import confusion_matrix\\nfrom sklearn.metrics import accuracy_score\\nfrom sklearn.pipeline import Pipeline\\nfrom sklearn.linear_model import LogisticRegression\\nfrom sklearn.tree import DecisionTreeClassifier\\nfrom sklearn.neighbors import KNeighborsClassifier\\nfrom sklearn.naive_bayes import GaussianNB\\nfrom sklearn.svm import SVC\\nfrom sklearn.ensemble import BaggingClassifier\\nfrom sklearn.ensemble import RandomForestClassifier\\nfrom sklearn.ensemble import ExtraTreesClassifier\\nfrom sklearn.ensemble import VotingClassifier\\nfrom sklearn.ensemble import AdaBoostClassifier\\nfrom sklearn.ensemble import GradientBoostingClassifier'"
            ],
            "application/vnd.google.colaboratory.intrinsic+json": {
              "type": "string"
            }
          },
          "metadata": {},
          "execution_count": 48
        }
      ]
    },
    {
      "cell_type": "code",
      "source": [
        "# Configuração para tratamento de erros\n",
        "import warnings\n",
        "warnings.filterwarnings(\"ignore\")"
      ],
      "metadata": {
        "id": "OYqL2gdNSuII"
      },
      "execution_count": 49,
      "outputs": []
    },
    {
      "cell_type": "markdown",
      "source": [
        "## **2. Carga do Dataset**\n",
        "\n",
        "Vou utilizar o pacote Pandas (Python Data Analysis Library) para fazer a carga do arquivo **hcvdata0** em formato **.csv** e a partir do carregamento vou fazer uma análise exploratória.\n",
        "\n"
      ],
      "metadata": {
        "id": "1kzHcbIuS7dY"
      }
    },
    {
      "cell_type": "code",
      "source": [
        "# Carregamento do arquivo hcvdata0.csv usando Pandas e usando a URL do repositório no GITHUB\n",
        "\n",
        "# Varíavel recebendo a URL do repositório para onde foi feito o upload do arquivo no GITHUB\n",
        "url = \"https://raw.githubusercontent.com/joserobertofox/datascience/main/hcvdat01.csv\"\n",
        "\n",
        "# Informando o cabeçalho das colunas e deixando o ID de fora do meu Dataset\n",
        "colunas = ['Category', 'Age', 'Sex', 'ALB', 'ALP', 'ALT', 'AST', 'BIL', 'CHE', 'CHOL', 'CREA', 'GGT', 'PROT']\n",
        "\n",
        "# Carregando o arquivo utilizando as descrições informadas das colunas\n",
        "dataset = pd.read_csv(url, names=colunas, skiprows=1, delimiter=',')"
      ],
      "metadata": {
        "id": "wWvaNJV2Z-0A"
      },
      "execution_count": 63,
      "outputs": []
    },
    {
      "cell_type": "code",
      "source": [
        "dataset.head()"
      ],
      "metadata": {
        "colab": {
          "base_uri": "https://localhost:8080/",
          "height": 206
        },
        "id": "1Kf1ohHzi97j",
        "outputId": "b6506348-8d92-45e7-de9f-2827755c8c8c"
      },
      "execution_count": 61,
      "outputs": [
        {
          "output_type": "execute_result",
          "data": {
            "text/plain": [
              "   Category  Age  Sex   ALB   ALP   ALT   AST   BIL    CHE  CHOL   CREA   GGT  \\\n",
              "1       0.0   32  1.0  38.5  52.5   7.7  22.1   7.5   6.93  3.23  106.0  12.1   \n",
              "2       0.0   32  1.0  38.5  70.3  18.0  24.7   3.9  11.17  4.80   74.0  15.6   \n",
              "3       0.0   32  1.0  46.9  74.7  36.2  52.6   6.1   8.84  5.20   86.0  33.2   \n",
              "4       0.0   32  1.0  43.2  52.0  30.6  22.6  18.9   7.33  4.74   80.0  33.8   \n",
              "5       0.0   32  1.0  39.2  74.1  32.6  24.8   9.6   9.15  4.32   76.0  29.9   \n",
              "\n",
              "   PROT  \n",
              "1  69.0  \n",
              "2  76.5  \n",
              "3  79.3  \n",
              "4  75.7  \n",
              "5  68.7  "
            ],
            "text/html": [
              "\n",
              "\n",
              "  <div id=\"df-898946c1-7025-4b67-abbe-83631c42f060\">\n",
              "    <div class=\"colab-df-container\">\n",
              "      <div>\n",
              "<style scoped>\n",
              "    .dataframe tbody tr th:only-of-type {\n",
              "        vertical-align: middle;\n",
              "    }\n",
              "\n",
              "    .dataframe tbody tr th {\n",
              "        vertical-align: top;\n",
              "    }\n",
              "\n",
              "    .dataframe thead th {\n",
              "        text-align: right;\n",
              "    }\n",
              "</style>\n",
              "<table border=\"1\" class=\"dataframe\">\n",
              "  <thead>\n",
              "    <tr style=\"text-align: right;\">\n",
              "      <th></th>\n",
              "      <th>Category</th>\n",
              "      <th>Age</th>\n",
              "      <th>Sex</th>\n",
              "      <th>ALB</th>\n",
              "      <th>ALP</th>\n",
              "      <th>ALT</th>\n",
              "      <th>AST</th>\n",
              "      <th>BIL</th>\n",
              "      <th>CHE</th>\n",
              "      <th>CHOL</th>\n",
              "      <th>CREA</th>\n",
              "      <th>GGT</th>\n",
              "      <th>PROT</th>\n",
              "    </tr>\n",
              "  </thead>\n",
              "  <tbody>\n",
              "    <tr>\n",
              "      <th>1</th>\n",
              "      <td>0.0</td>\n",
              "      <td>32</td>\n",
              "      <td>1.0</td>\n",
              "      <td>38.5</td>\n",
              "      <td>52.5</td>\n",
              "      <td>7.7</td>\n",
              "      <td>22.1</td>\n",
              "      <td>7.5</td>\n",
              "      <td>6.93</td>\n",
              "      <td>3.23</td>\n",
              "      <td>106.0</td>\n",
              "      <td>12.1</td>\n",
              "      <td>69.0</td>\n",
              "    </tr>\n",
              "    <tr>\n",
              "      <th>2</th>\n",
              "      <td>0.0</td>\n",
              "      <td>32</td>\n",
              "      <td>1.0</td>\n",
              "      <td>38.5</td>\n",
              "      <td>70.3</td>\n",
              "      <td>18.0</td>\n",
              "      <td>24.7</td>\n",
              "      <td>3.9</td>\n",
              "      <td>11.17</td>\n",
              "      <td>4.80</td>\n",
              "      <td>74.0</td>\n",
              "      <td>15.6</td>\n",
              "      <td>76.5</td>\n",
              "    </tr>\n",
              "    <tr>\n",
              "      <th>3</th>\n",
              "      <td>0.0</td>\n",
              "      <td>32</td>\n",
              "      <td>1.0</td>\n",
              "      <td>46.9</td>\n",
              "      <td>74.7</td>\n",
              "      <td>36.2</td>\n",
              "      <td>52.6</td>\n",
              "      <td>6.1</td>\n",
              "      <td>8.84</td>\n",
              "      <td>5.20</td>\n",
              "      <td>86.0</td>\n",
              "      <td>33.2</td>\n",
              "      <td>79.3</td>\n",
              "    </tr>\n",
              "    <tr>\n",
              "      <th>4</th>\n",
              "      <td>0.0</td>\n",
              "      <td>32</td>\n",
              "      <td>1.0</td>\n",
              "      <td>43.2</td>\n",
              "      <td>52.0</td>\n",
              "      <td>30.6</td>\n",
              "      <td>22.6</td>\n",
              "      <td>18.9</td>\n",
              "      <td>7.33</td>\n",
              "      <td>4.74</td>\n",
              "      <td>80.0</td>\n",
              "      <td>33.8</td>\n",
              "      <td>75.7</td>\n",
              "    </tr>\n",
              "    <tr>\n",
              "      <th>5</th>\n",
              "      <td>0.0</td>\n",
              "      <td>32</td>\n",
              "      <td>1.0</td>\n",
              "      <td>39.2</td>\n",
              "      <td>74.1</td>\n",
              "      <td>32.6</td>\n",
              "      <td>24.8</td>\n",
              "      <td>9.6</td>\n",
              "      <td>9.15</td>\n",
              "      <td>4.32</td>\n",
              "      <td>76.0</td>\n",
              "      <td>29.9</td>\n",
              "      <td>68.7</td>\n",
              "    </tr>\n",
              "  </tbody>\n",
              "</table>\n",
              "</div>\n",
              "      <button class=\"colab-df-convert\" onclick=\"convertToInteractive('df-898946c1-7025-4b67-abbe-83631c42f060')\"\n",
              "              title=\"Convert this dataframe to an interactive table.\"\n",
              "              style=\"display:none;\">\n",
              "\n",
              "  <svg xmlns=\"http://www.w3.org/2000/svg\" height=\"24px\"viewBox=\"0 0 24 24\"\n",
              "       width=\"24px\">\n",
              "    <path d=\"M0 0h24v24H0V0z\" fill=\"none\"/>\n",
              "    <path d=\"M18.56 5.44l.94 2.06.94-2.06 2.06-.94-2.06-.94-.94-2.06-.94 2.06-2.06.94zm-11 1L8.5 8.5l.94-2.06 2.06-.94-2.06-.94L8.5 2.5l-.94 2.06-2.06.94zm10 10l.94 2.06.94-2.06 2.06-.94-2.06-.94-.94-2.06-.94 2.06-2.06.94z\"/><path d=\"M17.41 7.96l-1.37-1.37c-.4-.4-.92-.59-1.43-.59-.52 0-1.04.2-1.43.59L10.3 9.45l-7.72 7.72c-.78.78-.78 2.05 0 2.83L4 21.41c.39.39.9.59 1.41.59.51 0 1.02-.2 1.41-.59l7.78-7.78 2.81-2.81c.8-.78.8-2.07 0-2.86zM5.41 20L4 18.59l7.72-7.72 1.47 1.35L5.41 20z\"/>\n",
              "  </svg>\n",
              "      </button>\n",
              "\n",
              "\n",
              "\n",
              "    <div id=\"df-90b86e84-e3bc-40b8-bc00-27ed853b23ea\">\n",
              "      <button class=\"colab-df-quickchart\" onclick=\"quickchart('df-90b86e84-e3bc-40b8-bc00-27ed853b23ea')\"\n",
              "              title=\"Suggest charts.\"\n",
              "              style=\"display:none;\">\n",
              "\n",
              "<svg xmlns=\"http://www.w3.org/2000/svg\" height=\"24px\"viewBox=\"0 0 24 24\"\n",
              "     width=\"24px\">\n",
              "    <g>\n",
              "        <path d=\"M19 3H5c-1.1 0-2 .9-2 2v14c0 1.1.9 2 2 2h14c1.1 0 2-.9 2-2V5c0-1.1-.9-2-2-2zM9 17H7v-7h2v7zm4 0h-2V7h2v10zm4 0h-2v-4h2v4z\"/>\n",
              "    </g>\n",
              "</svg>\n",
              "      </button>\n",
              "    </div>\n",
              "\n",
              "<style>\n",
              "  .colab-df-quickchart {\n",
              "    background-color: #E8F0FE;\n",
              "    border: none;\n",
              "    border-radius: 50%;\n",
              "    cursor: pointer;\n",
              "    display: none;\n",
              "    fill: #1967D2;\n",
              "    height: 32px;\n",
              "    padding: 0 0 0 0;\n",
              "    width: 32px;\n",
              "  }\n",
              "\n",
              "  .colab-df-quickchart:hover {\n",
              "    background-color: #E2EBFA;\n",
              "    box-shadow: 0px 1px 2px rgba(60, 64, 67, 0.3), 0px 1px 3px 1px rgba(60, 64, 67, 0.15);\n",
              "    fill: #174EA6;\n",
              "  }\n",
              "\n",
              "  [theme=dark] .colab-df-quickchart {\n",
              "    background-color: #3B4455;\n",
              "    fill: #D2E3FC;\n",
              "  }\n",
              "\n",
              "  [theme=dark] .colab-df-quickchart:hover {\n",
              "    background-color: #434B5C;\n",
              "    box-shadow: 0px 1px 3px 1px rgba(0, 0, 0, 0.15);\n",
              "    filter: drop-shadow(0px 1px 2px rgba(0, 0, 0, 0.3));\n",
              "    fill: #FFFFFF;\n",
              "  }\n",
              "</style>\n",
              "\n",
              "    <script>\n",
              "      async function quickchart(key) {\n",
              "        const containerElement = document.querySelector('#' + key);\n",
              "        const charts = await google.colab.kernel.invokeFunction(\n",
              "            'suggestCharts', [key], {});\n",
              "      }\n",
              "    </script>\n",
              "\n",
              "      <script>\n",
              "\n",
              "function displayQuickchartButton(domScope) {\n",
              "  let quickchartButtonEl =\n",
              "    domScope.querySelector('#df-90b86e84-e3bc-40b8-bc00-27ed853b23ea button.colab-df-quickchart');\n",
              "  quickchartButtonEl.style.display =\n",
              "    google.colab.kernel.accessAllowed ? 'block' : 'none';\n",
              "}\n",
              "\n",
              "        displayQuickchartButton(document);\n",
              "      </script>\n",
              "      <style>\n",
              "    .colab-df-container {\n",
              "      display:flex;\n",
              "      flex-wrap:wrap;\n",
              "      gap: 12px;\n",
              "    }\n",
              "\n",
              "    .colab-df-convert {\n",
              "      background-color: #E8F0FE;\n",
              "      border: none;\n",
              "      border-radius: 50%;\n",
              "      cursor: pointer;\n",
              "      display: none;\n",
              "      fill: #1967D2;\n",
              "      height: 32px;\n",
              "      padding: 0 0 0 0;\n",
              "      width: 32px;\n",
              "    }\n",
              "\n",
              "    .colab-df-convert:hover {\n",
              "      background-color: #E2EBFA;\n",
              "      box-shadow: 0px 1px 2px rgba(60, 64, 67, 0.3), 0px 1px 3px 1px rgba(60, 64, 67, 0.15);\n",
              "      fill: #174EA6;\n",
              "    }\n",
              "\n",
              "    [theme=dark] .colab-df-convert {\n",
              "      background-color: #3B4455;\n",
              "      fill: #D2E3FC;\n",
              "    }\n",
              "\n",
              "    [theme=dark] .colab-df-convert:hover {\n",
              "      background-color: #434B5C;\n",
              "      box-shadow: 0px 1px 3px 1px rgba(0, 0, 0, 0.15);\n",
              "      filter: drop-shadow(0px 1px 2px rgba(0, 0, 0, 0.3));\n",
              "      fill: #FFFFFF;\n",
              "    }\n",
              "  </style>\n",
              "\n",
              "      <script>\n",
              "        const buttonEl =\n",
              "          document.querySelector('#df-898946c1-7025-4b67-abbe-83631c42f060 button.colab-df-convert');\n",
              "        buttonEl.style.display =\n",
              "          google.colab.kernel.accessAllowed ? 'block' : 'none';\n",
              "\n",
              "        async function convertToInteractive(key) {\n",
              "          const element = document.querySelector('#df-898946c1-7025-4b67-abbe-83631c42f060');\n",
              "          const dataTable =\n",
              "            await google.colab.kernel.invokeFunction('convertToInteractive',\n",
              "                                                     [key], {});\n",
              "          if (!dataTable) return;\n",
              "\n",
              "          const docLinkHtml = 'Like what you see? Visit the ' +\n",
              "            '<a target=\"_blank\" href=https://colab.research.google.com/notebooks/data_table.ipynb>data table notebook</a>'\n",
              "            + ' to learn more about interactive tables.';\n",
              "          element.innerHTML = '';\n",
              "          dataTable['output_type'] = 'display_data';\n",
              "          await google.colab.output.renderOutput(dataTable, element);\n",
              "          const docLink = document.createElement('div');\n",
              "          docLink.innerHTML = docLinkHtml;\n",
              "          element.appendChild(docLink);\n",
              "        }\n",
              "      </script>\n",
              "    </div>\n",
              "  </div>\n"
            ]
          },
          "metadata": {},
          "execution_count": 61
        }
      ]
    },
    {
      "cell_type": "markdown",
      "source": [
        "## **3. Pré-Processamento dos Dados**\n"
      ],
      "metadata": {
        "id": "sOurD5fYTV4E"
      }
    },
    {
      "cell_type": "markdown",
      "source": [
        "### 3.1. Transformações Categóricas"
      ],
      "metadata": {
        "id": "864ZUk_62wAl"
      }
    },
    {
      "cell_type": "markdown",
      "source": [
        "Vou fazer a codificação ordinal da classe target **Category** para converter em numérica respeitando sua ordenação. Vou fazer o mesmo com o atributo não ordinal **Sex** do dataset (Variável qualitativa nominal) para fazer a codificação ordinal."
      ],
      "metadata": {
        "id": "IWRw5uXQG4Ln"
      }
    },
    {
      "cell_type": "markdown",
      "source": [
        "#### 3.1.1 Codificação Ordinal"
      ],
      "metadata": {
        "id": "9hoC_hIW3DPM"
      }
    },
    {
      "cell_type": "code",
      "source": [
        "#Guardando dataset original\n",
        "datasetPreProc = dataset\n",
        "\n",
        "# Imprimindo parte do dataset antes da codificação ordinal\n",
        "print(\"Antes da codificação ordinal da classe Category e do atributo Sex:\")\n",
        "print(dataset.values[531:544,0:]) # Imprimindo o intervalo da linha 531 a 544 (onde retrata 3 instâncias da classe) com os valores da classe Category\n",
        "\n",
        "# Ordinal encoding para a classe Category\n",
        "datasetPreProc['Category']=OrdinalEncoder().fit_transform(datasetPreProc.values[:,0:1])\n",
        "\n",
        "# Ordinal encoding para a classe Category\n",
        "datasetPreProc['Sex']=OrdinalEncoder().fit_transform(datasetPreProc.values[:,2:3])"
      ],
      "metadata": {
        "colab": {
          "base_uri": "https://localhost:8080/"
        },
        "id": "aGDzc6293xTc",
        "outputId": "32611d24-d1cd-40d1-f809-ad7b2221580e"
      },
      "execution_count": 62,
      "outputs": [
        {
          "output_type": "stream",
          "name": "stdout",
          "text": [
            "Antes da codificação ordinal da classe Category e do atributo Sex:\n",
            "[[  0.    68.     0.    41.4  102.3   38.4   26.4    6.8    8.5    6.79\n",
            "   59.    23.8   68.9 ]\n",
            " [  0.    70.     0.    40.    97.9   15.1   15.9    6.8   11.46   5.08\n",
            "   62.    19.2   65.3 ]\n",
            " [  1.    47.     1.    22.5  124.    79.5   46.7    2.3    6.83   4.3\n",
            "  170.   345.6   58.6 ]\n",
            " [  1.    48.     1.    24.9  116.9   49.2   24.3    4.9    3.44   5.25\n",
            "   29.    83.    47.8 ]\n",
            " [  1.    49.     1.    21.6   42.2    9.5   10.6    2.4    3.75   3.01\n",
            "   64.    38.9   44.8 ]\n",
            " [  1.    55.     1.    47.3  106.   208.8  130.6    0.8   14.8    8.08\n",
            "   76.    71.6   78.3 ]\n",
            " [  1.    71.     1.    14.9   69.8   19.7   95.2    9.8   13.3    2.61\n",
            "    9.     7.6   47.  ]\n",
            " [  1.    74.     1.    20.3   84.    22.8   43.     5.7    4.91   3.19\n",
            "   52.   218.3   47.8 ]\n",
            " [  1.    59.     0.    19.3  208.2  325.3  146.6    6.9    5.33   4.72\n",
            "   32.   295.6   53.1 ]\n",
            " [  2.    38.     1.    45.    56.3     nan  33.1    7.     9.58   6.\n",
            "   77.9   18.9   63.  ]\n",
            " [  2.    19.     1.    41.      nan  87.    67.    12.     7.55   3.9\n",
            "   62.    65.    75.  ]\n",
            " [  2.    23.     1.    47.    19.1   38.9  164.2   17.     7.09   3.2\n",
            "   79.3   90.4   70.1 ]\n",
            " [  2.    25.     1.    42.    38.2   63.3  187.7   14.     6.     4.28\n",
            "   66.9   40.2   70.5 ]]\n"
          ]
        }
      ]
    },
    {
      "cell_type": "code",
      "source": [
        "# Imprimindo os dados transformados pela codificação ordinal\n",
        "print(\"Classe e atributo transformados:\")\n",
        "print(datasetPreProc.values[531:544,0:]) # Imprimindo o intervalo da linha 531 a 544 (onde retrata 3 instâncias da classe) com os valores da classe Category"
      ],
      "metadata": {
        "colab": {
          "base_uri": "https://localhost:8080/"
        },
        "id": "kpA6VlmFdnDk",
        "outputId": "959249d2-f007-4211-bf5c-eac378a88a5e"
      },
      "execution_count": 53,
      "outputs": [
        {
          "output_type": "stream",
          "name": "stdout",
          "text": [
            "Classe e atributo transformados:\n",
            "[[  0.    68.     0.    41.4  102.3   38.4   26.4    6.8    8.5    6.79\n",
            "   59.    23.8   68.9 ]\n",
            " [  0.    70.     0.    40.    97.9   15.1   15.9    6.8   11.46   5.08\n",
            "   62.    19.2   65.3 ]\n",
            " [  1.    47.     1.    22.5  124.    79.5   46.7    2.3    6.83   4.3\n",
            "  170.   345.6   58.6 ]\n",
            " [  1.    48.     1.    24.9  116.9   49.2   24.3    4.9    3.44   5.25\n",
            "   29.    83.    47.8 ]\n",
            " [  1.    49.     1.    21.6   42.2    9.5   10.6    2.4    3.75   3.01\n",
            "   64.    38.9   44.8 ]\n",
            " [  1.    55.     1.    47.3  106.   208.8  130.6    0.8   14.8    8.08\n",
            "   76.    71.6   78.3 ]\n",
            " [  1.    71.     1.    14.9   69.8   19.7   95.2    9.8   13.3    2.61\n",
            "    9.     7.6   47.  ]\n",
            " [  1.    74.     1.    20.3   84.    22.8   43.     5.7    4.91   3.19\n",
            "   52.   218.3   47.8 ]\n",
            " [  1.    59.     0.    19.3  208.2  325.3  146.6    6.9    5.33   4.72\n",
            "   32.   295.6   53.1 ]\n",
            " [  2.    38.     1.    45.    56.3     nan  33.1    7.     9.58   6.\n",
            "   77.9   18.9   63.  ]\n",
            " [  2.    19.     1.    41.      nan  87.    67.    12.     7.55   3.9\n",
            "   62.    65.    75.  ]\n",
            " [  2.    23.     1.    47.    19.1   38.9  164.2   17.     7.09   3.2\n",
            "   79.3   90.4   70.1 ]\n",
            " [  2.    25.     1.    42.    38.2   63.3  187.7   14.     6.     4.28\n",
            "   66.9   40.2   70.5 ]]\n"
          ]
        }
      ]
    },
    {
      "cell_type": "markdown",
      "source": [],
      "metadata": {
        "id": "zmzVTHvoQrne"
      }
    },
    {
      "cell_type": "markdown",
      "source": [
        "### 3.2. Tratamento de Missings e Limpeza\n",
        "Analisando o dataset verifiquei que existem poucos valores missings (faltantes) e vou preparar estes dados. Verifiquei também que não existem valores \"0\" nos atributos."
      ],
      "metadata": {
        "id": "3GlQ7K3COyx6"
      }
    },
    {
      "cell_type": "code",
      "source": [
        "# verificando nulls (missings) no dataset\n",
        "datasetPreProc.isnull().sum()"
      ],
      "metadata": {
        "colab": {
          "base_uri": "https://localhost:8080/"
        },
        "id": "85CdyxahTq88",
        "outputId": "9c00695e-414d-4bba-e7f2-cb9366e23d6a"
      },
      "execution_count": 60,
      "outputs": [
        {
          "output_type": "execute_result",
          "data": {
            "text/plain": [
              "Category     0\n",
              "Age          0\n",
              "Sex          0\n",
              "ALB          1\n",
              "ALP         18\n",
              "ALT          1\n",
              "AST          0\n",
              "BIL          0\n",
              "CHE          0\n",
              "CHOL        10\n",
              "CREA         0\n",
              "GGT          0\n",
              "PROT         1\n",
              "dtype: int64"
            ]
          },
          "metadata": {},
          "execution_count": 60
        }
      ]
    },
    {
      "cell_type": "code",
      "source": [
        "# Exibindo visualização matricial da nulidade da copia do dataset\n",
        "ms.matrix(datasetPreProc)"
      ],
      "metadata": {
        "colab": {
          "base_uri": "https://localhost:8080/",
          "height": 756
        },
        "id": "ftBqGam4UYFO",
        "outputId": "77ae08f6-2f15-47f0-9016-9e122ef533cb"
      },
      "execution_count": 55,
      "outputs": [
        {
          "output_type": "execute_result",
          "data": {
            "text/plain": [
              "<Axes: >"
            ]
          },
          "metadata": {},
          "execution_count": 55
        },
        {
          "output_type": "display_data",
          "data": {
            "text/plain": [
              "<Figure size 2500x1000 with 2 Axes>"
            ],
            "image/png": "[encoded data removed]"
          },
          "metadata": {}
        }
      ]
    },
    {
      "cell_type": "code",
      "source": [
        "\n",
        "# Substituindo os NaN de 'ALB', 'ALP', 'ALT', 'CHOL' e 'PROT' pela mediana da coluna\n",
        "datasetpreproc['ALB'].fillna(datasetSemMissings['ALB'].median(), inplace=True)\n",
        "datasetpreproc['ALP'].fillna(datasetSemMissings['ALP'].median(), inplace=True)\n",
        "datasetpreproc['ALT'].fillna(datasetSemMissings['ALT'].median(), inplace=True)\n",
        "datasetSemMissings['CHOL'].fillna(datasetSemMissings['CHOL'].median(), inplace=True)\n",
        "datasetSemMissings['PROT'].fillna(datasetSemMissings['PROT'].median(), inplace=True)\n",
        "\n",
        "# Exibindo visualização matricial da nulidade do dataset\n",
        "ms.matrix(datasetSemMissings)"
      ],
      "metadata": {
        "colab": {
          "base_uri": "https://localhost:8080/",
          "height": 529
        },
        "id": "M3UfpThPjULx",
        "outputId": "dd3f910a-bc1c-43e2-f6ea-a7e8e6a46dce"
      },
      "execution_count": null,
      "outputs": [
        {
          "output_type": "execute_result",
          "data": {
            "text/plain": [
              "<Axes: >"
            ]
          },
          "metadata": {},
          "execution_count": 34
        },
        {
          "output_type": "display_data",
          "data": {
            "text/plain": [
              "<Figure size 2500x1000 with 2 Axes>"
            ],
            "image/png": "[encoded data removed]"
          },
          "metadata": {}
        }
      ]
    },
    {
      "cell_type": "code",
      "source": [
        "# Verificando nulls no dataset tratado\n",
        "datasetSemMissings.isnull().sum()"
      ],
      "metadata": {
        "colab": {
          "base_uri": "https://localhost:8080/"
        },
        "id": "6E0RXJ-Pn2YK",
        "outputId": "c58275eb-d9b0-4528-b0d5-53dee72df89b"
      },
      "execution_count": null,
      "outputs": [
        {
          "output_type": "execute_result",
          "data": {
            "text/plain": [
              "Category    0\n",
              "Age         0\n",
              "Sex         0\n",
              "ALB         0\n",
              "ALP         0\n",
              "ALT         0\n",
              "AST         0\n",
              "BIL         0\n",
              "CHE         0\n",
              "CHOL        0\n",
              "CREA        0\n",
              "GGT         0\n",
              "PROT        0\n",
              "dtype: int64"
            ]
          },
          "metadata": {},
          "execution_count": 35
        }
      ]
    },
    {
      "cell_type": "markdown",
      "source": [
        "### 3.2. Tratamento de Missings e Limpeza"
      ],
      "metadata": {
        "id": "oSPhtp2P_aUS"
      }
    },
    {
      "cell_type": "markdown",
      "source": [
        "Através do comando abaixo verifiquei que o datset hcvdata0 possue missings nos atributos ALP(18), ALT(1), CHOL(10) e PROT(1). Vou tratar esses missings e criar uma nova visão do dataset."
      ],
      "metadata": {
        "id": "MSusTkBaXbOd"
      }
    },
    {
      "cell_type": "code",
      "source": [],
      "metadata": {
        "id": "weebjsk4j2Oi"
      },
      "execution_count": null,
      "outputs": []
    },
    {
      "cell_type": "code",
      "source": [
        "# verificando nulls (missings) no dataset\n",
        "dataset.isnull().sum()"
      ],
      "metadata": {
        "colab": {
          "base_uri": "https://localhost:8080/"
        },
        "id": "wgjyYcu2XjD4",
        "outputId": "6a10af17-d4ea-4078-8bbe-399c16d565ce"
      },
      "execution_count": null,
      "outputs": [
        {
          "output_type": "execute_result",
          "data": {
            "text/plain": [
              "Category    0\n",
              "Age         0\n",
              "Sex         0\n",
              "ALB         0\n",
              "ALP         0\n",
              "ALT         0\n",
              "AST         0\n",
              "BIL         0\n",
              "CHE         0\n",
              "CHOL        0\n",
              "CREA        0\n",
              "GGT         0\n",
              "PROT        0\n",
              "dtype: int64"
            ]
          },
          "metadata": {},
          "execution_count": 36
        }
      ]
    },
    {
      "cell_type": "code",
      "source": [
        "# Exibindo visualização matricial da nulidade da copia do dataset\n",
        "ms.matrix(dataset)"
      ],
      "metadata": {
        "colab": {
          "base_uri": "https://localhost:8080/",
          "height": 529
        },
        "id": "llBeGy-eGGeT",
        "outputId": "ea3d6c8b-b727-42de-da56-2fb9f3b98fda"
      },
      "execution_count": null,
      "outputs": [
        {
          "output_type": "execute_result",
          "data": {
            "text/plain": [
              "<Axes: >"
            ]
          },
          "metadata": {},
          "execution_count": 37
        },
        {
          "output_type": "display_data",
          "data": {
            "text/plain": [
              "<Figure size 2500x1000 with 2 Axes>"
            ],
            "image/png": "[encoded data removed]"
          },
          "metadata": {}
        }
      ]
    },
    {
      "cell_type": "markdown",
      "source": [
        "Analisando a visualização da nulidade concluimos que a proporção de nulos nos atributos não é alta. Vamos tratar os mesmos substituindo pela mediana."
      ],
      "metadata": {
        "id": "prvhf9G5ZWjj"
      }
    },
    {
      "cell_type": "markdown",
      "source": [
        "### 3.3. Separação em base de treino e base de teste"
      ],
      "metadata": {
        "id": "ibw7nYZConeA"
      }
    },
    {
      "cell_type": "markdown",
      "source": [
        "Vou utilizar uma técnica de amostragem usando um conjunto teste ou conjunto de validação que é uma amostra de dados que não será utilizada na construção do modelo final. Será utilizada somente no final para validar se a construção do modelo foi bem construída e também para termos uma análise do modelo com dados ainda não utilizados. Criarei um conjunto de dados com 80% do dataset para criarmos o modelo e guardarei 20% para teste de validação, usando a estratégia train-test-split. Primeiramente, iremos sinalizar quais são as colunas de atributos (X - 1 a 13) e qual é a coluna da classe alvo (Y - 0). Em seguida, especificaremos o tamanho do conjunto de teste desejado e uma semente. Finalmente, faremos a separação dos conjuntos de treino e teste através do comando train_test_split, que retornará 4 estruturas de dados: os atributos e classes para o conjunto de teste e os atributos e classes para o conjunto de treino."
      ],
      "metadata": {
        "id": "smvJonIy52gw"
      }
    },
    {
      "cell_type": "markdown",
      "source": [
        "#### 3.3.1 Validação Cruzada - Cross Validation"
      ],
      "metadata": {
        "id": "bKXJoSkT8acX"
      }
    },
    {
      "cell_type": "code",
      "source": [
        "test_size = 0.20\n",
        "seed = 12\n",
        "\n",
        "# Separação em conjuntos de treino e teste (dataset original)\n",
        "array = dataset.values\n",
        "X = array[:,1:13]\n",
        "y = array[:,0]\n",
        "X_train, X_test, y_train, y_test = train_test_split(X, y,\n",
        "    test_size=test_size, shuffle=True, random_state=seed, stratify=y) # com estratificação / Retirarndo stratify=y fica sem estratificação"
      ],
      "metadata": {
        "id": "JY6BM0_3q_0u"
      },
      "execution_count": null,
      "outputs": []
    },
    {
      "cell_type": "code",
      "source": [
        "# Separação em conjuntos de treino e teste (dataset sem missings - 2 colunas a menos!)\n",
        "array = datasetSemMissings.values\n",
        "X_sm = array[:,1:13]\n",
        "y_sm = array[:,0]\n",
        "#X_train_sm, X_test_sm, y_train_sm, y_test_sm = train_test_split(X_sm, y_sm,\n",
        "#    test_size=test_size, shuffle=True, random_state=seed) # sem estratificação\n",
        "X_train_sm, X_test_sm, y_train_sm, y_test_sm = train_test_split(X_sm, y_sm,\n",
        "    test_size=test_size, shuffle=True, random_state=seed, stratify=y_sm) #com estratificação / Retirarndo stratify=y fica sem estratificação"
      ],
      "metadata": {
        "id": "pJOI7gDYrIPe"
      },
      "execution_count": null,
      "outputs": []
    }
  ]
}