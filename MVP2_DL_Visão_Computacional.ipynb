{
  "nbformat": 4,
  "nbformat_minor": 0,
  "metadata": {
    "colab": {
      "provenance": [],
      "toc_visible": true,
      "authorship_tag": "ABX9TyNkF6vnCFivz8y+7E0dKkrC",
      "include_colab_link": true
    },
    "kernelspec": {
      "name": "python3",
      "display_name": "Python 3"
    },
    "language_info": {
      "name": "python"
    }
  },
  "cells": [
    {
      "cell_type": "markdown",
      "metadata": {
        "id": "view-in-github",
        "colab_type": "text"
      },
      "source": [
        "<a href=\"https://colab.research.google.com/github/joserobertofox/datascience/blob/main/MVP2_DL_Vis%C3%A3o_Computacional.ipynb\" target=\"_parent\"><img src=\"https://colab.research.google.com/assets/colab-badge.svg\" alt=\"Open In Colab\"/></a>"
      ]
    },
    {
      "cell_type": "markdown",
      "source": [
        "# **MVP de Machine Learning & Analytics - Deep Learning - Visão Computacional**\n",
        "## **Aluno: José Roberto Assis Silva**"
      ],
      "metadata": {
        "id": "9L2lPCe6SjRc"
      }
    },
    {
      "cell_type": "code",
      "source": [],
      "metadata": {
        "id": "GG-8OCU1mgr2"
      },
      "execution_count": null,
      "outputs": []
    },
    {
      "cell_type": "markdown",
      "source": [
        "## **1. Definição do Problema**"
      ],
      "metadata": {
        "id": "GX2Vdu8lTZ9B"
      }
    },
    {
      "cell_type": "markdown",
      "source": [
        "Este conjunto de dados foi criado com a finalidade de usá-lo em um drone e mapear/detectar doenças no campo de milho. Este conjunto de dados contém 4117 imagens de folhas doentes e saudáveis, distribuidas em 1550 doentes e 2567 saudáveis. Vamos criar um modelo que consiga mapear estas imagens e classificar.\n"
      ],
      "metadata": {
        "id": "In9I4IhOllus"
      }
    },
    {
      "cell_type": "code",
      "source": [
        "from keras.preprocessing.image import ImageDataGenerator\n",
        "from keras import layers\n",
        "from keras import models\n",
        "from keras import optimizers\n",
        "from tensorflow.keras.preprocessing import image\n",
        "import os\n",
        "from sklearn.model_selection import train_test_split\n",
        "import shutil\n",
        "import random\n",
        "import math\n",
        "import numpy as np\n",
        "import zipfile\n",
        "import pandas as pd\n",
        "import matplotlib.image as mpimg\n",
        "import matplotlib.pyplot as plt\n",
        "import matplotlib.image as mpimg\n",
        "from datetime import datetime\n",
        "from tensorflow import keras\n",
        "from sklearn.metrics import confusion_matrix, classification_report\n",
        "import sklearn.metrics as skm\n",
        "import itertools\n",
        "import numpy as np\n",
        "import matplotlib.pyplot as plt"
      ],
      "metadata": {
        "id": "mZM7OVd3pSdx"
      },
      "execution_count": 1,
      "outputs": []
    }
  ]
}